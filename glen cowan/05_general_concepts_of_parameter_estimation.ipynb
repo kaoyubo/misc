{
 "cells": [
  {
   "cell_type": "markdown",
   "metadata": {},
   "source": [
    "## 5. General Concepts of Parameter Estimation"
   ]
  },
  {
   "cell_type": "markdown",
   "metadata": {},
   "source": [
    "### 5.1 Samples, estimations, bias"
   ]
  },
  {
   "cell_type": "markdown",
   "metadata": {},
   "source": [
    "Consider a random variable $x$ described by p.d.f. $f(x)$. The sample space here is all possible values of $x$. $n$ independent observations of $x$, also called sample of size $n$, can be considered as a single measurement with joint p.d.f. $f_{sample} (x_1, x_2, ... x_n) = f(x_1)f(x_2)...f(x_n)$. \n",
    "\n",
    "Consider another situation where one made $n$ measurements of random variable $x$ with unknown p.d.f. $f(x)$. The central problem here is to infer properties of $f(x)$ based on observations $x_1, x_2, ... x_n$. Often one already has a hypothesis for p.d.f. $f(x, \\theta)$ with unknown parameter(s) $\\theta$, and the goal is to construct a function for observations $x_i$ to estimate $\\theta$.\n",
    "\n",
    "A function of the observations $x_i$ is called a statistic. A statistic used to estimate some property of a p.d.f. is called an estimator. The estimator for parameter $\\theta$ is often denoted $\\hat{\\theta}$. If $\\hat{\\theta}$ converges to $\\theta$ in the limit of large sample size $n$, the estimator is said to be consistent. The procedure of estimating the value of a parameter is called parameter fitting. \n",
    "\n",
    "Since estimator $\\hat{\\theta}(x_1, x_2, ... x_n)$ is a function of measured values, it is itself a random variable. If entire experiment of $n$ measurements were repeated multiple times, each time with different sample $x_1, x_2, ... x_n$, the estimator $\\hat{\\theta}(x)$ would have different values, distributed based on some p.d.f. $g(\\hat{\\theta}; \\theta)$. The expectation value of an estimator with sampleing p.d.f. $g(\\hat{\\theta}; \\theta)$ is \n",
    "\\begin{align}\n",
    "E[\\hat{\\theta}(x)] = \\int\n",
    "\\end{align}"
   ]
  },
  {
   "cell_type": "markdown",
   "metadata": {},
   "source": [
    "### 5.2 Estimations for mean, variance, covariance"
   ]
  },
  {
   "cell_type": "markdown",
   "metadata": {},
   "source": [
    "Consider a sample of size $n$ for random variable $x: x_1, x_2, ... x_n$. Assume $x$ is distributed accordin to some p.d.f. $f(x)$"
   ]
  },
  {
   "cell_type": "code",
   "execution_count": null,
   "metadata": {},
   "outputs": [],
   "source": []
  },
  {
   "cell_type": "code",
   "execution_count": null,
   "metadata": {},
   "outputs": [],
   "source": []
  },
  {
   "cell_type": "code",
   "execution_count": null,
   "metadata": {},
   "outputs": [],
   "source": []
  },
  {
   "cell_type": "code",
   "execution_count": null,
   "metadata": {},
   "outputs": [],
   "source": []
  }
 ],
 "metadata": {
  "kernelspec": {
   "display_name": "Python 3",
   "language": "python",
   "name": "python3"
  },
  "language_info": {
   "codemirror_mode": {
    "name": "ipython",
    "version": 3
   },
   "file_extension": ".py",
   "mimetype": "text/x-python",
   "name": "python",
   "nbconvert_exporter": "python",
   "pygments_lexer": "ipython3",
   "version": "3.6.3"
  }
 },
 "nbformat": 4,
 "nbformat_minor": 2
}
